{
  "nbformat": 4,
  "nbformat_minor": 0,
  "metadata": {
    "colab": {
      "provenance": [],
      "authorship_tag": "ABX9TyMwBaVIh4M6HU6sBkUojKSv",
      "include_colab_link": true
    },
    "kernelspec": {
      "name": "python3",
      "display_name": "Python 3"
    },
    "language_info": {
      "name": "python"
    }
  },
  "cells": [
    {
      "cell_type": "markdown",
      "metadata": {
        "id": "view-in-github",
        "colab_type": "text"
      },
      "source": [
        "<a href=\"https://colab.research.google.com/github/xwasoux/transformer-pytorch/blob/master/transformer.ipynb\" target=\"_parent\"><img src=\"https://colab.research.google.com/assets/colab-badge.svg\" alt=\"Open In Colab\"/></a>"
      ]
    },
    {
      "cell_type": "code",
      "execution_count": null,
      "metadata": {
        "id": "XSq54jRVImCr"
      },
      "outputs": [],
      "source": [
        "!git --version"
      ]
    },
    {
      "cell_type": "markdown",
      "source": [
        "## 1. Clone target rep from Github\n",
        "\n",
        "https://github.com/tunz/transformer-pytorch.git"
      ],
      "metadata": {
        "id": "C6R3RO8gJONJ"
      }
    },
    {
      "cell_type": "code",
      "source": [
        "!git clone https://github.com/tunz/transformer-pytorch.git"
      ],
      "metadata": {
        "id": "AQI_NxiLIxUl"
      },
      "execution_count": null,
      "outputs": []
    },
    {
      "cell_type": "code",
      "source": [
        "%cd transformer-pytorch"
      ],
      "metadata": {
        "id": "09IlTwwyJDNZ"
      },
      "execution_count": null,
      "outputs": []
    },
    {
      "cell_type": "markdown",
      "source": [
        "# 2.Install packages using pip\n",
        "\n",
        "Firstly, you need edit requirement.txt file to install some packages.\n",
        "\n",
        "1. Open following file.\n",
        "\n",
        "```\n",
        "transformer-python/requirements.txt\n",
        "```\n",
        "\n",
        "2. Add some lines.\n",
        "\n",
        "```\n",
        "pip\n",
        "setuptools\n",
        "wheel\n",
        "spacy\n",
        "```\n",
        "\n"
      ],
      "metadata": {
        "id": "geCWpcZvKbVj"
      }
    },
    {
      "cell_type": "code",
      "source": [
        "%pip install -U -r requirements.txt"
      ],
      "metadata": {
        "id": "dW_TJrdEKQSv"
      },
      "execution_count": null,
      "outputs": []
    },
    {
      "cell_type": "code",
      "source": [
        "!pip list | grep tensorboardX\n",
        "!pip list | grep torchtext==0.3.1\n",
        "!pip list | grep tqdm\n",
        "!pip list | grep spacy"
      ],
      "metadata": {
        "id": "vZGx47b7LjSH"
      },
      "execution_count": null,
      "outputs": []
    },
    {
      "cell_type": "markdown",
      "source": [
        "# 3. Download dataset from spaCy"
      ],
      "metadata": {
        "id": "hiWh_xb9VuIM"
      }
    },
    {
      "cell_type": "code",
      "source": [
        "!python3 -m spacy download en_core_web_sm\n",
        "!python3 -m spacy download ja_core_news_sm"
      ],
      "metadata": {
        "id": "Qfo_8sM4KUT6"
      },
      "execution_count": null,
      "outputs": []
    },
    {
      "cell_type": "markdown",
      "source": [
        "# 2. Training Transformer model\n",
        "\n",
        "2.1 Before you train, edit following file to set dataset.\n",
        "\n",
        "```\n",
        "transformer-pytorch/dataset/translation.py\n",
        "```\n",
        "\n",
        "2.2 Update following 2 lines at 17 and 18.\n",
        "```\n",
        "spacy_de = spacy.load('de')\n",
        "spacy_en = spacy.load('en')\n",
        "```\n",
        "\n",
        "```de```, ```en``` is short name of Germany dataset & English dataset.\n",
        "But, current verion has been deprecated the use of such abbreviations.\n",
        "So, you need to fixed following name.\n",
        "\n",
        "```\n",
        "spacy_de = spacy.load('en_core_web_sm')\n",
        "spacy_en = spacy.load('ja_core_news_sm')\n",
        "```\n",
        "\n",
        "Above samples is pair of Englist & Japanese dataset.\n",
        "If you want to use other language datasets, you can select some languages from https://spacy.io/usage/ .\n",
        "\n"
      ],
      "metadata": {
        "id": "Li_9gqrHN_mF"
      }
    },
    {
      "cell_type": "code",
      "source": [
        "!python3 train.py --problem wmt32k --output_dir ./output --data_dir ./wmt32k_data"
      ],
      "metadata": {
        "colab": {
          "base_uri": "https://localhost:8080/"
        },
        "id": "tTAE0ICeNkxi",
        "outputId": "c160abda-e30a-41fb-c43e-c777a38c51a7"
      },
      "execution_count": null,
      "outputs": [
        {
          "output_type": "stream",
          "name": "stdout",
          "text": [
            "2023-06-21 04:32:21.649694: I tensorflow/core/platform/cpu_feature_guard.cc:182] This TensorFlow binary is optimized to use available CPU instructions in performance-critical operations.\n",
            "To enable the following instructions: AVX2 FMA, in other operations, rebuild TensorFlow with the appropriate compiler flags.\n",
            "2023-06-21 04:32:22.734258: W tensorflow/compiler/tf2tensorrt/utils/py_utils.cc:38] TF-TRT Warning: Could not find TensorRT\n",
            "Loading data... (this may take a while)\n",
            "downloading training-parallel-nc-v13.tgz\n",
            "training-parallel-nc-v13.tgz: 100% 113M/113M [00:04<00:00, 24.5MB/s]\n",
            "downloading training-parallel-commoncrawl.tgz\n",
            "training-parallel-commoncrawl.tgz: 100% 918M/918M [39:26<00:00, 388kB/s]\n",
            "downloading training-parallel-europarl-v7.tgz\n",
            "training-parallel-europarl-v7.tgz: 100% 658M/658M [21:28<00:00, 510kB/s]\n",
            "downloading dev.tgz\n",
            "dev.tgz: 100% 27.6M/27.6M [00:01<00:00, 16.7MB/s]\n",
            "Preprocessing .data/wmt32k/training-parallel-nc-v13/news-commentary-v13.de-en\n",
            "284246it [03:25, 1384.31it/s]\n",
            "Preprocessing .data/wmt32k/commoncrawl.de-en\n",
            "1342304it [17:38, 1357.21it/s]"
          ]
        }
      ]
    }
  ]
}